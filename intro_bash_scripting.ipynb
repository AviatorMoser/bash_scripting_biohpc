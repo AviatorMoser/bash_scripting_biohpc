{
 "cells": [
  {
   "cell_type": "code",
   "execution_count": null,
   "metadata": {},
   "outputs": [],
   "source": [
    "# Clean up any old examples\n",
    "\n",
    "rm -rf Sep2019\n",
    "rm -f *.sh\n",
    "rm -f *.out\n",
    "rm -f *.txt"
   ]
  },
  {
   "cell_type": "markdown",
   "metadata": {},
   "source": [
    "# Introduction to Shell Scripting"
   ]
  },
  {
   "cell_type": "markdown",
   "metadata": {},
   "source": [
    "### Resources\n",
    "\n",
    "https://devhints.io/bash\n",
    "\n",
    "https://www.shellscript.sh\n",
    "\n",
    "https://ryanstutorials.net/bash-scripting-tutorial/"
   ]
  },
  {
   "cell_type": "markdown",
   "metadata": {},
   "source": [
    "## History\n",
    "\n",
    "The Bourne shell `sh` was developed by Stephen Bourne at Bell Labs in 1979 for Version 7 Unix.\n",
    "\n",
    "In Lesson 1 of this Command-Line Interface series, this shell was primarly shown as an interactive command interpreter. In addition, the Bourne shell was also written as a *scripting language* and allows for some programming aspects that will the focus of this lesson.\n",
    "\n",
    "### Bourne-Again Shell\n",
    "\n",
    "Released in 1989, the Bourne-Again Shell `bash` was written as a free software replacement for the Bourne shell. *Bash* uses a superset of the Bourne shell that incorporates some elements of other shells e.g., `csh` and `ksh`. Many GNU/Linux distributions provide `bash` as the default shell today."
   ]
  },
  {
   "cell_type": "markdown",
   "metadata": {},
   "source": [
    "#### What shell does the BioHPC run?"
   ]
  },
  {
   "cell_type": "code",
   "execution_count": null,
   "metadata": {},
   "outputs": [],
   "source": [
    "# use command substitution $(command) to find the default shell\n",
    "\n",
    "ls -l $(which sh) "
   ]
  },
  {
   "cell_type": "code",
   "execution_count": null,
   "metadata": {},
   "outputs": [],
   "source": [
    "# `command` is also a form of command substitution\n",
    "\n",
    "ls -l `which sh`"
   ]
  },
  {
   "cell_type": "code",
   "execution_count": null,
   "metadata": {},
   "outputs": [],
   "source": [
    "# print version info of bash\n",
    "\n",
    "bash --version"
   ]
  },
  {
   "cell_type": "markdown",
   "metadata": {},
   "source": [
    "## Building Your First Script\n",
    "\n",
    "### Interpreter Directive\n",
    "\n",
    "Every shell script should begin with an *interpreter directive*.\n",
    "\n",
    "For shell scripts, this will almost always be:\n",
    "\n",
    "```\n",
    "#!/bin/sh\n",
    "```\n",
    "\n",
    "The `#!` is called the *shebang* which always precedes the *interpreter*."
   ]
  },
  {
   "cell_type": "code",
   "execution_count": null,
   "metadata": {
    "collapsed": true
   },
   "outputs": [],
   "source": [
    "## building your first script hello.sh\n",
    "\n",
    "echo '#!/bin/sh' > hello.sh\n",
    "echo 'echo Hello, World!' >> hello.sh"
   ]
  },
  {
   "cell_type": "code",
   "execution_count": null,
   "metadata": {},
   "outputs": [],
   "source": [
    "# printing contents of our script\n",
    "\n",
    "cat hello.sh"
   ]
  },
  {
   "cell_type": "code",
   "execution_count": null,
   "metadata": {},
   "outputs": [],
   "source": [
    "# running hello.sh with your shell command\n",
    "\n",
    "sh hello.sh"
   ]
  },
  {
   "cell_type": "markdown",
   "metadata": {},
   "source": [
    "#### What happens if you try to write your script using echo and double quotation marks?"
   ]
  },
  {
   "cell_type": "code",
   "execution_count": null,
   "metadata": {},
   "outputs": [],
   "source": [
    "echo \"#!/bin/sh\" > hello.sh\n",
    "echo \"echo Hello, World!\" >> hello.sh"
   ]
  },
  {
   "cell_type": "markdown",
   "metadata": {},
   "source": [
    "#### Making shell scripts executable\n",
    "\n",
    "Shell scripts can executed as if they were their own program and `sh` or `bash` does not need to be specifically invoked. The executable bits of the script have to be set."
   ]
  },
  {
   "cell_type": "code",
   "execution_count": null,
   "metadata": {},
   "outputs": [],
   "source": [
    "# What are the permissions of our script?\n",
    "\n",
    "ls -l hello.sh"
   ]
  },
  {
   "cell_type": "code",
   "execution_count": null,
   "metadata": {
    "collapsed": true
   },
   "outputs": [],
   "source": [
    "# Set hello.sh to be executable by its owner\n",
    "\n",
    "chmod u+x hello.sh"
   ]
  },
  {
   "cell_type": "code",
   "execution_count": null,
   "metadata": {},
   "outputs": [],
   "source": [
    "# Run hello.sh as an executable\n",
    "# prefixing the filename with a relative path since it is not in $PATH\n",
    "\n",
    "./hello.sh"
   ]
  },
  {
   "cell_type": "code",
   "execution_count": null,
   "metadata": {},
   "outputs": [],
   "source": [
    "# what type of file is hello.sh\n",
    "\n",
    "file hello.sh"
   ]
  },
  {
   "cell_type": "code",
   "execution_count": null,
   "metadata": {},
   "outputs": [],
   "source": [
    "# Setting a script to be executable is not always necessary\n",
    "# One can have bash read the script, then execute its contents\n",
    "\n",
    "bash hello.sh"
   ]
  },
  {
   "cell_type": "markdown",
   "metadata": {},
   "source": [
    "## Passing arguments to a script\n",
    "\n",
    "A script can behave as a function, where it accepts arguments. The arguments can be accessed within a script through some special variables.\n",
    "\n",
    "```\n",
    "$1 - $9 | The first 9 arguments to the Bash script\n",
    "\n",
    "$#      | How many arguments were passed to the Bash script\n",
    "\n",
    "$@      | All the arguments supplied to the Bash script\n",
    "```\n"
   ]
  },
  {
   "cell_type": "code",
   "execution_count": null,
   "metadata": {
    "collapsed": true
   },
   "outputs": [],
   "source": [
    "# build a script that echos the arguments passed into it\n",
    "\n",
    "echo '#!/bin/sh' > echo.sh\n",
    "echo 'echo $1' >> echo.sh\n",
    "echo 'echo $2' >> echo.sh\n",
    "echo 'echo $@' >> echo.sh\n",
    "echo 'echo $#' >> echo.sh\n",
    "\n",
    "chmod u+x echo.sh"
   ]
  },
  {
   "cell_type": "code",
   "execution_count": null,
   "metadata": {},
   "outputs": [],
   "source": [
    "./echo.sh hello audience"
   ]
  },
  {
   "cell_type": "markdown",
   "metadata": {},
   "source": [
    "#### Other special variables\n",
    "\n",
    "```\n",
    "$0        |  The name of the Bash script\n",
    "$?        | The exit status of the most recently run process\n",
    "$$        | The process ID of the current script\n",
    "$USER     | The username of the user running the script\n",
    "$HOSTNAME | The hostname of the machine the script is running on\n",
    "$SECONDS  | The number of seconds since the script was started\n",
    "$RANDOM   | Returns a different random number each time is it referred to\n",
    "$LINENO   | Returns the current line number in the Bash script\n",
    "```"
   ]
  },
  {
   "cell_type": "code",
   "execution_count": null,
   "metadata": {
    "collapsed": true
   },
   "outputs": [],
   "source": [
    "# example\n",
    "# heredoc format is being used to write the script file -- should be easier to copy and paste into a terminal\n",
    "\n",
    "cat > special_var.sh << \"EOF\"\n",
    "#!/bin/sh\n",
    "echo 'This script is' $0\n",
    "echo 'The last process exited with exit code' $?\n",
    "echo 'The process id is' $$\n",
    "echo 'The script was run by' $USER\n",
    "echo 'The name of this node is' $HOSTNAME\n",
    "echo 'The script was started' $SECONDS 'seconds ago'\n",
    "echo 'The script generated the random number ' $RANDOM\n",
    "echo 'This is the' $LINENO'th line of the script'\n",
    "EOF\n",
    "\n",
    "chmod u+x special_var.sh"
   ]
  },
  {
   "cell_type": "code",
   "execution_count": null,
   "metadata": {},
   "outputs": [],
   "source": [
    "cat special_var.sh"
   ]
  },
  {
   "cell_type": "code",
   "execution_count": null,
   "metadata": {},
   "outputs": [],
   "source": [
    "./special_var.sh"
   ]
  },
  {
   "cell_type": "markdown",
   "metadata": {
    "collapsed": true
   },
   "source": [
    "## Variables\n",
    "\n",
    "Like other programming languages, data can be saved to the system's memory by assigning variables with the `=` assignment operator."
   ]
  },
  {
   "cell_type": "code",
   "execution_count": null,
   "metadata": {
    "collapsed": true
   },
   "outputs": [],
   "source": [
    "# Build a script that builds a very small datafile\n",
    "# The script passes a single argument to the filename and content of the file.\n",
    "\n",
    "cat > boring_data.sh << \"EOF\"\n",
    "#!/bin/sh\n",
    "\n",
    "# Note the lack of white space in the assignment\n",
    "PREFIX='data'\n",
    "\n",
    "echo 'Boring Header' > $PREFIX$1.txt\n",
    "echo $1 >> $PREFIX$1.txt\n",
    "EOF"
   ]
  },
  {
   "cell_type": "code",
   "execution_count": null,
   "metadata": {
    "collapsed": true
   },
   "outputs": [],
   "source": [
    "chmod u+x boring_data.sh\n",
    "\n",
    "./boring_data.sh 90210"
   ]
  },
  {
   "cell_type": "code",
   "execution_count": null,
   "metadata": {},
   "outputs": [],
   "source": [
    "cat data90210.txt"
   ]
  },
  {
   "cell_type": "markdown",
   "metadata": {},
   "source": [
    "### Scope of Variables\n",
    "\n",
    "Variables assigned in a script are local to the instance of that executed script and should not 'leak' out to other environments."
   ]
  },
  {
   "cell_type": "code",
   "execution_count": null,
   "metadata": {},
   "outputs": [],
   "source": [
    "# Locality -- should this work?\n",
    "\n",
    "echo $PREFIX"
   ]
  },
  {
   "cell_type": "code",
   "execution_count": null,
   "metadata": {
    "collapsed": true
   },
   "outputs": [],
   "source": [
    "# How about using `export` to assign our variable\n",
    "\n",
    "cat > boring_data.sh << \"EOF\"\n",
    "#!/bin/sh\n",
    "\n",
    "# Note the lack of white space in the assignment\n",
    "export PREFIX='data'\n",
    "\n",
    "echo 'Boring Header' > $PREFIX$1.txt\n",
    "echo $1 >> $PREFIX$1.txt\n",
    "EOF\n",
    "\n",
    "chmod u+x boring_data.sh\n",
    "./boring_data.sh 90210"
   ]
  },
  {
   "cell_type": "code",
   "execution_count": null,
   "metadata": {},
   "outputs": [],
   "source": [
    "# Locality -- should this work? How does export work?\n",
    "\n",
    "echo $PREFIX"
   ]
  },
  {
   "cell_type": "markdown",
   "metadata": {},
   "source": [
    "`export` only sets variables in the current environment spawned by the script and any subprocesses run within that environment."
   ]
  },
  {
   "cell_type": "code",
   "execution_count": null,
   "metadata": {
    "collapsed": true
   },
   "outputs": [],
   "source": [
    "# Locality test -- simple script that contains the variable $PREFIX\n",
    "\n",
    "cat > prefix.sh << \"EOF\"\n",
    "#!/bin/sh\n",
    "echo $PREFIX\n",
    "EOF"
   ]
  },
  {
   "cell_type": "code",
   "execution_count": null,
   "metadata": {},
   "outputs": [],
   "source": [
    "export PREFIX='UTSW'\n",
    "\n",
    "bash prefix.sh"
   ]
  },
  {
   "cell_type": "markdown",
   "metadata": {},
   "source": [
    "## Arithmetic expressions\n",
    "\n",
    "From `man bash`:\n",
    "\n",
    "```\n",
    "The  shell allows arithmetic expressions to be evaluated, under certain circumstances (see the let\n",
    "and declare builtin commands and Arithmetic Expansion).  Evaluation is done in  fixed-width  inte‐\n",
    "gers  with  no  check  for overflow, though division by 0 is trapped and flagged as an error.  The\n",
    "operators and their precedence, associativity, and values are the same as in the C language.   The\n",
    "following  list of operators is grouped into levels of equal-precedence operators.  The levels are\n",
    "listed in order of decreasing precedence.\n",
    "\n",
    "id++ id--\n",
    "      variable post-increment and post-decrement\n",
    "++id --id\n",
    "      variable pre-increment and pre-decrement\n",
    "- +    unary minus and plus\n",
    "! ~    logical and bitwise negation\n",
    "**     exponentiation\n",
    "* / %  multiplication, division, remainder\n",
    "+ -    addition, subtraction\n",
    "```\n",
    "\n",
    "Mathematical expressions can be evaluated in several ways.\n",
    "\n",
    " - let\n",
    " - expr\n",
    " - double round-brackets "
   ]
  },
  {
   "cell_type": "code",
   "execution_count": null,
   "metadata": {
    "collapsed": true
   },
   "outputs": [],
   "source": [
    "# let is an internal bash function that only does integer math\n",
    "\n",
    "cat > let.sh << \"EOF\"\n",
    "#!/bin/sh\n",
    "\n",
    "let a=40+2       #addition\n",
    "echo $a\n",
    "\n",
    "let 'a = 40 - 2' #subtraction\n",
    "echo $a\n",
    "\n",
    "let a++          #increment\n",
    "echo $a\n",
    "\n",
    "let \"a = 4 * 5\"  #multiplication\n",
    "echo $a # 20\n",
    "\n",
    "let \"a = 4 / 3\"  # division\n",
    "echo $a\n",
    "\n",
    "let \"a = 2 ** 2\" #exponents \n",
    "echo $a\n",
    "\n",
    "let \"a = $1 + 30\"\n",
    "echo $a # 30 + first command line argument\n",
    "EOF"
   ]
  },
  {
   "cell_type": "code",
   "execution_count": null,
   "metadata": {},
   "outputs": [],
   "source": [
    "bash let.sh"
   ]
  },
  {
   "cell_type": "code",
   "execution_count": null,
   "metadata": {
    "collapsed": true
   },
   "outputs": [],
   "source": [
    "# expr example - Converting from Unix time to a Unix date.\n",
    "# Actually, quite useful for sys admins!\n",
    "\n",
    "cat > unix_date.sh << \"EOF\"\n",
    "#!/bin/sh\n",
    "\n",
    "# date +%s is the number of seconds since 1970-01-01 \"Unix time\"\n",
    "expr $(date +%s) / 86400\n",
    "\n",
    "EOF"
   ]
  },
  {
   "cell_type": "code",
   "execution_count": null,
   "metadata": {},
   "outputs": [],
   "source": [
    "bash unix_date.sh"
   ]
  },
  {
   "cell_type": "code",
   "execution_count": null,
   "metadata": {
    "collapsed": true
   },
   "outputs": [],
   "source": [
    "# double round-brackets\n",
    "\n",
    "cat > arith.sh << \"EOF\"\n",
    "#!/bin/sh\n",
    "\n",
    "echo $((40 + 2))\n",
    "\n",
    "echo $((40 - 2))\n",
    "\n",
    "echo $((4 * 5))\n",
    "\n",
    "echo $((4 / 3))\n",
    "\n",
    "a=$((2 ** 2)) \n",
    "echo $a\n",
    "\n",
    "((a++))\n",
    "echo $a\n",
    "\n",
    "EOF"
   ]
  },
  {
   "cell_type": "code",
   "execution_count": null,
   "metadata": {},
   "outputs": [],
   "source": [
    "bash arith.sh"
   ]
  },
  {
   "cell_type": "markdown",
   "metadata": {},
   "source": [
    "## Looping\n",
    "\n",
    "Any computing language allows for repetition to save time. `bash` implements looping through the `for`, `while`, and `until` statements.\n",
    "\n",
    "The `for` statement will iterate over a set of elements.\n",
    "\n",
    "The `while` statement will loop a set of statements until some condition is false.\n",
    "\n",
    "The `until` statement will loop a set of statements until some condition is true."
   ]
  },
  {
   "cell_type": "markdown",
   "metadata": {},
   "source": [
    "### For loops"
   ]
  },
  {
   "cell_type": "code",
   "execution_count": null,
   "metadata": {
    "collapsed": true
   },
   "outputs": [],
   "source": [
    "# for loop over discrete elements\n",
    "\n",
    "cat > mkdir_train.sh << \"EOF\"\n",
    "\n",
    "#!/bin/sh\n",
    "for A in train01 train02 train03 train04 train05 train06 train07 train08 train09 train10 train11 train12 train13 train14 train15 train17 train18 train19 train20\n",
    "do\n",
    "  mkdir -p Sep2019/$A\n",
    "  chmod 700 Sep2019/$A\n",
    "done\n",
    "\n",
    "EOF"
   ]
  },
  {
   "cell_type": "code",
   "execution_count": null,
   "metadata": {},
   "outputs": [],
   "source": [
    "bash mkdir_train.sh\n",
    "\n",
    "ls -la Sep2019"
   ]
  },
  {
   "cell_type": "code",
   "execution_count": null,
   "metadata": {
    "collapsed": true
   },
   "outputs": [],
   "source": [
    "# cleanup training folders\n",
    "\n",
    "rm -r Sep2019"
   ]
  },
  {
   "cell_type": "code",
   "execution_count": null,
   "metadata": {
    "collapsed": true
   },
   "outputs": [],
   "source": [
    "# for loop over a range of numbers\n",
    "# some key differences from previous script\n",
    "# printf is used to format each iterable\n",
    "\n",
    "cat > mkdir_train.sh << \"EOF\"\n",
    "#!/bin/sh\n",
    "\n",
    "TRAINDIR=Sep2019\n",
    "PREFIX=$TRAINDIR/train\n",
    "\n",
    "for A in {1..20}\n",
    "do\n",
    "  B=$(printf \"%02d\\n\" $A)\n",
    "\n",
    "  mkdir -p $PREFIX$B\n",
    "  chmod 700 $PREFIX$B\n",
    "done\n",
    "\n",
    "# add a shared folder\n",
    "mkdir -p $TRAINDIR/shared\n",
    "chmod 750 $TRAINDIR/shared\n",
    "\n",
    "EOF"
   ]
  },
  {
   "cell_type": "code",
   "execution_count": null,
   "metadata": {},
   "outputs": [],
   "source": [
    "bash mkdir_train.sh\n",
    "\n",
    "ls -la Sep2019"
   ]
  },
  {
   "cell_type": "code",
   "execution_count": null,
   "metadata": {
    "collapsed": true
   },
   "outputs": [],
   "source": [
    "# bash also supports C-like for loops syntax\n",
    "\n",
    "rm -r Sep2019\n",
    "\n",
    "cat > mkdir_train.sh << \"EOF\"\n",
    "#!/bin/sh\n",
    "\n",
    "TRAINDIR=Sep2019\n",
    "PREFIX=$TRAINDIR/train\n",
    "\n",
    "for ((A=1; A <= 20 ; A++))\n",
    "do\n",
    "  B=$(printf \"%02d\\n\" $A)\n",
    "\n",
    "  mkdir -p $PREFIX$B\n",
    "  chmod 700 $PREFIX$B\n",
    "done\n",
    "\n",
    "# add a shared folder\n",
    "mkdir -p $TRAINDIR/shared\n",
    "chmod 750 $TRAINDIR/shared\n",
    "EOF"
   ]
  },
  {
   "cell_type": "code",
   "execution_count": null,
   "metadata": {},
   "outputs": [],
   "source": [
    "bash mkdir_train.sh\n",
    "\n",
    "ls -la Sep2019"
   ]
  },
  {
   "cell_type": "markdown",
   "metadata": {},
   "source": [
    "### While loops\n",
    "\n",
    "While loops execute commands until some condition is tested and evaluated to be false.\n",
    "\n",
    "A `test` for a condition occurs within square brackets `[]`.\n",
    "\n",
    "Some of the more operators to evaluate some condition are presented below."
   ]
  },
  {
   "cell_type": "markdown",
   "metadata": {},
   "source": [
    "<table class=\"fancy\">\n",
    "    <tbody><tr>\n",
    "        <th>Operator</th>\n",
    "        <th>Description</th>\n",
    "    </tr>\n",
    "    <tr>\n",
    "        <td>! EXPRESSION</td>\n",
    "        <td>The EXPRESSION is false.</td>\n",
    "    </tr>\n",
    "    <tr>\n",
    "        <td>-n STRING</td>\n",
    "        <td>The length of STRING is greater than zero.</td>\n",
    "    </tr>\n",
    "    <tr>\n",
    "        <td>-z STRING</td>\n",
    "        <td>The lengh of STRING is zero (ie it is empty).</td>\n",
    "    </tr>\n",
    "    <tr>\n",
    "        <td>STRING1 = STRING2</td>\n",
    "        <td>STRING1 is equal to STRING2</td>\n",
    "    </tr>\n",
    "    <tr>\n",
    "        <td>STRING1 != STRING2</td>\n",
    "        <td>STRING1 is not equal to STRING2</td>\n",
    "    </tr>\n",
    "    <tr>\n",
    "        <td>INTEGER1 -eq INTEGER2</td>\n",
    "        <td>INTEGER1 is numerically equal to INTEGER2</td>\n",
    "    </tr>\n",
    "    <tr>\n",
    "        <td>INTEGER1 -gt INTEGER2</td>\n",
    "        <td>INTEGER1 is numerically greater than INTEGER2</td>\n",
    "    </tr>\n",
    "    <tr>\n",
    "        <td>INTEGER1 -lt INTEGER2</td>\n",
    "        <td>INTEGER1 is numerically less than INTEGER2</td>\n",
    "    </tr>\n",
    "    <tr>\n",
    "        <td>-d FILE</td>\n",
    "        <td>FILE exists and is a directory.</td>\n",
    "    </tr>\n",
    "    <tr>\n",
    "        <td>-e FILE</td>\n",
    "        <td>FILE exists.</td>\n",
    "    </tr>\n",
    "    <tr>\n",
    "        <td>-r FILE</td>\n",
    "        <td>FILE exists and the read permission is granted.</td>\n",
    "    </tr>\n",
    "    <tr>\n",
    "        <td>-s FILE</td>\n",
    "        <td>FILE exists and it's size is greater than zero (ie. it is not empty).</td>\n",
    "    </tr>\n",
    "    <tr>\n",
    "        <td>-w FILE</td>\n",
    "        <td>FILE exists and the write permission is granted.</td>\n",
    "    </tr>\n",
    "    <tr>\n",
    "        <td>-x FILE</td>\n",
    "        <td>FILE exists and the execute permission is granted.</td>\n",
    "    </tr>\n",
    "</tbody></table>"
   ]
  },
  {
   "cell_type": "code",
   "execution_count": null,
   "metadata": {
    "collapsed": true
   },
   "outputs": [],
   "source": [
    "rm -r Sep2019\n",
    "\n",
    "cat > mkdir_train.sh << \"EOF\"\n",
    "#!/bin/sh\n",
    "\n",
    "TRAINDIR=Sep2019\n",
    "PREFIX=$TRAINDIR/train\n",
    "\n",
    "# A must be assigned first\n",
    "A=1\n",
    "\n",
    "# here is the condition to be tested for\n",
    "while [ $A -lt 21 ]\n",
    "do\n",
    "  B=$(printf \"%02d\\n\" $A)\n",
    "\n",
    "  mkdir -p $PREFIX$B\n",
    "  chmod 700 $PREFIX$B\n",
    "  ((A++))\n",
    "done\n",
    "\n",
    "# add a shared folder\n",
    "mkdir -p $TRAINDIR/shared\n",
    "chmod 750 $TRAINDIR/shared\n",
    "EOF"
   ]
  },
  {
   "cell_type": "code",
   "execution_count": null,
   "metadata": {},
   "outputs": [],
   "source": [
    "bash mkdir_train.sh\n",
    "\n",
    "ls -la Sep2019"
   ]
  },
  {
   "cell_type": "markdown",
   "metadata": {},
   "source": [
    "### Until loops"
   ]
  },
  {
   "cell_type": "code",
   "execution_count": null,
   "metadata": {
    "collapsed": true
   },
   "outputs": [],
   "source": [
    "rm -r Sep2019\n",
    "\n",
    "cat > mkdir_train.sh << \"EOF\"\n",
    "#!/bin/sh\n",
    "\n",
    "TRAINDIR=Sep2019\n",
    "PREFIX=$TRAINDIR/train\n",
    "\n",
    "# A must be assigned first\n",
    "A=1\n",
    "\n",
    "# here is the condition to be tested for\n",
    "until [ $A -eq 21 ]\n",
    "do\n",
    "  B=$(printf \"%02d\\n\" $A)\n",
    "\n",
    "  mkdir -p $PREFIX$B\n",
    "  chmod 700 $PREFIX$B\n",
    "  ((A++))\n",
    "done\n",
    "\n",
    "# add a shared folder\n",
    "mkdir -p $TRAINDIR/shared\n",
    "chmod 750 $TRAINDIR/shared\n",
    "EOF"
   ]
  },
  {
   "cell_type": "code",
   "execution_count": null,
   "metadata": {},
   "outputs": [],
   "source": [
    "bash mkdir_train.sh\n",
    "\n",
    "ls -la Sep2019"
   ]
  },
  {
   "cell_type": "markdown",
   "metadata": {},
   "source": [
    "### Looping over a set of files"
   ]
  },
  {
   "cell_type": "code",
   "execution_count": null,
   "metadata": {
    "collapsed": true
   },
   "outputs": [],
   "source": [
    "# loop over each training folder and create a .bashrc, .bash_profile, and SSH key pair\n",
    "\n",
    "cat > mkdir_train.sh << \"EOF\"\n",
    "#!/bin/sh\n",
    "\n",
    "for i in Sep2019/train*; do\n",
    "  cp ~/.bashrc $i/\n",
    "  cp ~/.bash_profile $i/\n",
    "  mkdir $i/.ssh\n",
    "  ssh-keygen -t rsa -b 2048 -C \"\" -P \"\" -f $i/.ssh/train_key -q\n",
    "done\n",
    "\n",
    "EOF"
   ]
  },
  {
   "cell_type": "code",
   "execution_count": null,
   "metadata": {
    "collapsed": true
   },
   "outputs": [],
   "source": [
    "# run script\n",
    "\n",
    "bash mkdir_train.sh"
   ]
  },
  {
   "cell_type": "code",
   "execution_count": null,
   "metadata": {},
   "outputs": [],
   "source": [
    "cat Sep2019/train01/.ssh/train_key"
   ]
  },
  {
   "cell_type": "markdown",
   "metadata": {},
   "source": [
    "## Arrays\n",
    "\n",
    "Arrays can be declared by enclosing a set of elements with round brackets. Arrays are iterable.\n",
    "\n",
    "Elements of an array have a numeric index beginning at zero (like Python), and can be referenced individually.\n",
    "\n",
    "`${ARRAY[@]}` will list all the elements of an array\n",
    "\n",
    "`${ARRAY[0]}` prints the first element of the array"
   ]
  },
  {
   "cell_type": "code",
   "execution_count": null,
   "metadata": {},
   "outputs": [],
   "source": [
    "# declaring an array and printing its contents\n",
    "\n",
    "USERS=( s178337 s178722 hatawang rbateman s173217 zpang1 s183990 )\n",
    "\n",
    "echo ${USERS[@]}   "
   ]
  },
  {
   "cell_type": "code",
   "execution_count": null,
   "metadata": {},
   "outputs": [],
   "source": [
    "# printing the 5th element of the array\n",
    "\n",
    "echo ${USERS[4]}"
   ]
  },
  {
   "cell_type": "code",
   "execution_count": null,
   "metadata": {},
   "outputs": [],
   "source": [
    "# printing the first five elements\n",
    "\n",
    "echo ${USERS[@]:0:5}"
   ]
  },
  {
   "cell_type": "code",
   "execution_count": null,
   "metadata": {},
   "outputs": [],
   "source": [
    "# iterating over an array\n",
    "\n",
    "# Here we retrieve the full name of the user\n",
    "\n",
    "for i in \"${USERS[@]}\"; do\n",
    "    #echo $i\n",
    "    NAME=$(getent passwd $i | awk 'BEGIN {FS=\":\"} {print $5}' | awk 'BEGIN {FS=\",\"} {print $1}')\n",
    "    echo $NAME\n",
    "done"
   ]
  },
  {
   "cell_type": "markdown",
   "metadata": {},
   "source": [
    "## Conditional Statements\n",
    "\n",
    "Conditional statements can be used to control the flow of a script. The condition is contained within a pair of square brackets `[]` or `test` operator.\n",
    "\n",
    "The `then` clause is executed if the exit code is `0`.\n",
    "\n",
    "```\n",
    "if [ <some test> ]; then\n",
    "    <commands>\n",
    "fi\n",
    "```\n",
    "\n",
    "If the condition does not exit with `0`, then the construct can be ignored completely, or a separate clause of commands can be executed.\n",
    "\n",
    "```\n",
    "if [ <some test> ]; then\n",
    "    <commands>\n",
    "else\n",
    "    <commands>\n",
    "fi\n",
    "```\n",
    "\n",
    "If multiple conditions need to be evaluated, then  else-if `elif` checks can be implemented.\n",
    "\n",
    "```\n",
    "if [ <some test> ]; then\n",
    "    <commands>\n",
    "elif [ <some other test> ]\n",
    "    <commands>\n",
    "elif [ <some other test> ]\n",
    "    <commands>\n",
    "else\n",
    "    <commands>\n",
    "fi\n",
    "```"
   ]
  },
  {
   "cell_type": "code",
   "execution_count": null,
   "metadata": {
    "collapsed": true
   },
   "outputs": [],
   "source": [
    "# Check we are running under slurm and have a job ID, otherwise exit\n",
    "\n",
    "cat > slurm_check.sh << \"EOF\"\n",
    "#!/bin/sh\n",
    "\n",
    "#SBATCH -J SLURM_chk                  # Job name\n",
    "#SBATCH -o SLURM_chk.out              # Name of stdout output file\n",
    "#SBATCH -p 32GB                       # Queue name\n",
    "#SBATCH -N 1                          # Total number of nodes requested\n",
    "#SBATCH -t 00:01:00                   # Run time (hh:mm:ss)\n",
    "\n",
    "# our conditional if-then statement\n",
    "# -z checks if the variable has a value\n",
    "if [ -z $SLURM_JOB_ID ]; then\n",
    "   echo \"No SLURM job ID is set - this script must be run as a SLURM batch job.\"\n",
    "   exit 1\n",
    "fi\n",
    "\n",
    "echo \"Running as job $SLURM_JOB_ID\"\n",
    "echo \"Running on node(s) $SLURM_JOB_NODELIST\"\n",
    "EOF"
   ]
  },
  {
   "cell_type": "code",
   "execution_count": null,
   "metadata": {},
   "outputs": [],
   "source": [
    "# env -i to ignore the current running environment\n",
    "\n",
    "chmod u+x slurm_check.sh\n",
    "env -i ./slurm_check.sh"
   ]
  },
  {
   "cell_type": "code",
   "execution_count": null,
   "metadata": {},
   "outputs": [],
   "source": [
    "sbatch slurm_check.sh"
   ]
  },
  {
   "cell_type": "code",
   "execution_count": null,
   "metadata": {},
   "outputs": [],
   "source": [
    "cat SLURM_chk.out"
   ]
  },
  {
   "cell_type": "code",
   "execution_count": null,
   "metadata": {
    "collapsed": true
   },
   "outputs": [],
   "source": [
    "# let's illustrate conditional statements with a script that determines the port required for a BioHPC Jupyter session\n",
    "\n",
    "cat > jupyter_port.sh << \"EOF\"\n",
    "#!/bin/sh\n",
    "\n",
    "# the name of the node\n",
    "NODE_HOST=$(hostname -s)\n",
    "\n",
    "# a small pipeline that determines the node number\n",
    "NODE_NUMBER=`hostname -s | perl -ne 'print $1 if /(\\d+)$/;' | sed 's/^0*//'`\n",
    "\n",
    "# this is set\n",
    "LOCAL_JUPYTER_DISPLAY=5\n",
    "\n",
    "# double square brackets is a bash-specific test variation that allows for wildcard expansion\n",
    "# this feature is not always portable to other shells\n",
    "\n",
    "if [[ $NODE_HOST = NucleusA* ]]; then\n",
    "    NODE_GROUP=2300\n",
    "elif [[ $NODE_HOST = NucleusB* ]]; then\n",
    "    NODE_GROUP=2600\n",
    "elif [[ $NODE_HOST = NucleusC* ]]; then\n",
    "    NODE_GROUP=3000\n",
    "elif [[ $NODE_HOST = NucluesD* ]]; then\n",
    "    NODE_GROUP=3300\n",
    "elif [[ $NODE_HOST = NucleusE* ]]; then\n",
    "    NODE_GROUP=3600\n",
    "else\n",
    "    NODE_GROUP=2000\n",
    "fi\n",
    "\n",
    "LOGINPORT=$(($NODE_GROUP+$NODE_NUMBER))$LOCAL_JUPYTER_DISPLAY\n",
    "\n",
    "echo \"You are on\" $NODE_HOST\".\"\n",
    "echo \"This node's group number is\" $NODE_GROUP\".\"\n",
    "echo \"The login port is\" $LOGINPORT\".\"\n",
    "\n",
    "EOF"
   ]
  },
  {
   "cell_type": "code",
   "execution_count": null,
   "metadata": {},
   "outputs": [],
   "source": [
    "bash jupyter_port.sh"
   ]
  },
  {
   "cell_type": "markdown",
   "metadata": {},
   "source": [
    "### On the condition of an exit-code\n",
    "\n",
    "Conditional statements rely on the exit code of the condition enclosed within the `test` operator `[]`. By extension, the exit code of a command can also be used in an if-then statement.\n",
    "\n",
    "```\n",
    "if <command> then;\n",
    "    <commands>\n",
    "fi\n",
    "```\n",
    "\n",
    "The command can also be enclosed with round-brackets `(<command>)` to force it to run in a sub-shell. A typical reason for using a subshell like this is to limit side-effects of command if command required variable assignments or other changes to the shell's environment. Such changes do not remain after the subshell completes.\n",
    "\n",
    "```\n",
    "if (<command>) then;\n",
    "    <commands>\n",
    "fi\n",
    "```"
   ]
  },
  {
   "cell_type": "code",
   "execution_count": null,
   "metadata": {
    "collapsed": true
   },
   "outputs": [],
   "source": [
    "cat > run_check.sh << \"EOF\"\n",
    "#!/bin/sh\n",
    "\n",
    "PROC=jupyter_port.sh\n",
    "\n",
    "# let's run our juypter_port script in a subshell and echo if it ran successfully, i.e., exited with code 0\n",
    "if (bash $PROC); then\n",
    "    echo \"The process ran successfully.\"\n",
    "fi\n",
    "EOF"
   ]
  },
  {
   "cell_type": "code",
   "execution_count": null,
   "metadata": {},
   "outputs": [],
   "source": [
    "bash run_check.sh"
   ]
  },
  {
   "cell_type": "markdown",
   "metadata": {
    "collapsed": true
   },
   "source": [
    "## Functions\n",
    "\n",
    "A function can return a value in four ways:\n",
    "\n",
    "1. Change the state of a variable or variables\n",
    "2. Use the `exit` command to end the shell script\n",
    "3. Use the `return` command to end the function, and return the supplied value to the calling section of the shell script\n",
    "4. `echo` output to `stdout` which will be caught by the caller\n",
    "\n",
    "`exit` stops the program, and `return` returns control to the caller. A shell function *cannot* change its local parameters, but it can change global parameters.\n",
    "\n",
    "Functions can be declared in two ways:\n",
    "\n",
    "```\n",
    "function_name () {\n",
    "    <commands>\n",
    "}\n",
    "```\n",
    "\n",
    "or\n",
    "\n",
    "```\n",
    "function function_name {\n",
    "    <commands>\n",
    "}\n",
    "```"
   ]
  },
  {
   "cell_type": "code",
   "execution_count": null,
   "metadata": {
    "collapsed": true
   },
   "outputs": [],
   "source": [
    "# let's modify our slurm_check script so that the SLURM id check is called via a function\n",
    "\n",
    "cat > slurm_check.sh << \"EOF\"\n",
    "#!/bin/sh\n",
    "\n",
    "#SBATCH -J SLURM_chk                  # Job name\n",
    "#SBATCH -o SLURM_chk.out              # Name of stdout output file\n",
    "#SBATCH -p 32GB                       # Queue name\n",
    "#SBATCH -N 1                          # Total number of nodes requested\n",
    "#SBATCH -t 00:01:00                   # Run time (hh:mm:ss)\n",
    "\n",
    "# our conditional if-then statement\n",
    "# -z checks if the variable has a value\n",
    "\n",
    "# function that checks for a job id -- exits script with code 1 if no id is found\n",
    "id_check() {\n",
    "    if [ -z $SLURM_JOB_ID ]; then\n",
    "       echo \"No SLURM job ID is set - this script must be run as a SLURM batch job.\"\n",
    "       exit 1\n",
    "    fi\n",
    "}\n",
    "\n",
    "id_check\n",
    "\n",
    "echo \"Running as job $SLURM_JOB_ID\"\n",
    "echo \"Running on node(s) $SLURM_JOB_NODELIST\"\n",
    "EOF"
   ]
  },
  {
   "cell_type": "code",
   "execution_count": null,
   "metadata": {},
   "outputs": [],
   "source": [
    "# env -i to ignore the current running environment\n",
    "# the script should break before the final two echo commands\n",
    "\n",
    "chmod u+x slurm_check.sh\n",
    "env -i ./slurm_check.sh"
   ]
  },
  {
   "cell_type": "code",
   "execution_count": null,
   "metadata": {
    "collapsed": true
   },
   "outputs": [],
   "source": [
    "cat > jupyter_port.sh << \"EOF\"\n",
    "#!/bin/sh\n",
    "\n",
    "# the name of the node\n",
    "NODE_HOST=$(hostname -s)\n",
    "\n",
    "# a small pipeline that determines the node number\n",
    "NODE_NUMBER=`hostname -s | perl -ne 'print $1 if /(\\d+)$/;' | sed 's/^0*//'`\n",
    "\n",
    "# this is set\n",
    "LOCAL_JUPYTER_DISPLAY=5\n",
    "\n",
    "# double square brackets is a bash-specific test variation that allows for wildcard expansion\n",
    "# this feature is not always portable to other shells\n",
    "\n",
    "# here return is used to return control back from the function to the script\n",
    "node_grp() {\n",
    "    if [[ $NODE_HOST = NucleusA* ]]; then\n",
    "        NODE_GROUP=2300\n",
    "    elif [[ $NODE_HOST = NucleusB* ]]; then\n",
    "        NODE_GROUP=2600\n",
    "    elif [[ $NODE_HOST = NucleusC* ]]; then\n",
    "        NODE_GROUP=3000\n",
    "    elif [[ $NODE_HOST = NucluesD* ]]; then\n",
    "        NODE_GROUP=3300\n",
    "    elif [[ $NODE_HOST = NucleusE* ]]; then\n",
    "        NODE_GROUP=3600\n",
    "    else\n",
    "        NODE_GROUP=2000\n",
    "    fi\n",
    "    return\n",
    "}\n",
    "\n",
    "node_grp\n",
    "\n",
    "LOGINPORT=$(($NODE_GROUP+$NODE_NUMBER))$LOCAL_JUPYTER_DISPLAY\n",
    "\n",
    "echo \"You are on\" $NODE_HOST\".\"\n",
    "echo \"This node's group number is\" $NODE_GROUP\".\"\n",
    "echo \"The login port is\" $LOGINPORT\".\"\n",
    "\n",
    "EOF"
   ]
  },
  {
   "cell_type": "code",
   "execution_count": null,
   "metadata": {},
   "outputs": [],
   "source": [
    "bash jupyter_port.sh"
   ]
  }
 ],
 "metadata": {
  "kernelspec": {
   "display_name": "Bash",
   "language": "bash",
   "name": "bash"
  },
  "language_info": {
   "codemirror_mode": "shell",
   "file_extension": ".sh",
   "mimetype": "text/x-sh",
   "name": "bash"
  }
 },
 "nbformat": 4,
 "nbformat_minor": 2
}
